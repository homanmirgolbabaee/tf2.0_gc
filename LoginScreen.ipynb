{
  "nbformat": 4,
  "nbformat_minor": 0,
  "metadata": {
    "colab": {
      "name": "LoginScreen.ipynb",
      "provenance": [],
      "authorship_tag": "ABX9TyP616X4ZO+lPGdrvGcLOb8e",
      "include_colab_link": true
    },
    "kernelspec": {
      "name": "python3",
      "display_name": "Python 3"
    },
    "language_info": {
      "name": "python"
    }
  },
  "cells": [
    {
      "cell_type": "markdown",
      "metadata": {
        "id": "view-in-github",
        "colab_type": "text"
      },
      "source": [
        "<a href=\"https://colab.research.google.com/github/homanmirgolbabaee/tf2.0_gc/blob/main/LoginScreen.ipynb\" target=\"_parent\"><img src=\"https://colab.research.google.com/assets/colab-badge.svg\" alt=\"Open In Colab\"/></a>"
      ]
    },
    {
      "cell_type": "code",
      "source": [
        "!pip install kivy"
      ],
      "metadata": {
        "colab": {
          "base_uri": "https://localhost:8080/"
        },
        "id": "KSQNN-IR3T9E",
        "outputId": "92adf602-883c-445a-804d-d0a4a4ef8e4f"
      },
      "execution_count": 2,
      "outputs": [
        {
          "output_type": "stream",
          "name": "stdout",
          "text": [
            "Looking in indexes: https://pypi.org/simple, https://us-python.pkg.dev/colab-wheels/public/simple/\n",
            "Collecting kivy\n",
            "  Downloading Kivy-2.1.0-cp37-cp37m-manylinux_2_17_x86_64.manylinux2014_x86_64.whl (29.5 MB)\n",
            "\u001b[K     |████████████████████████████████| 29.5 MB 1.5 MB/s \n",
            "\u001b[?25hRequirement already satisfied: pygments in /usr/local/lib/python3.7/dist-packages (from kivy) (2.6.1)\n",
            "Requirement already satisfied: docutils in /usr/local/lib/python3.7/dist-packages (from kivy) (0.17.1)\n",
            "Collecting Kivy-Garden>=0.1.4\n",
            "  Downloading Kivy_Garden-0.1.5-py3-none-any.whl (4.6 kB)\n",
            "Requirement already satisfied: requests in /usr/local/lib/python3.7/dist-packages (from Kivy-Garden>=0.1.4->kivy) (2.23.0)\n",
            "Requirement already satisfied: chardet<4,>=3.0.2 in /usr/local/lib/python3.7/dist-packages (from requests->Kivy-Garden>=0.1.4->kivy) (3.0.4)\n",
            "Requirement already satisfied: certifi>=2017.4.17 in /usr/local/lib/python3.7/dist-packages (from requests->Kivy-Garden>=0.1.4->kivy) (2022.6.15)\n",
            "Requirement already satisfied: urllib3!=1.25.0,!=1.25.1,<1.26,>=1.21.1 in /usr/local/lib/python3.7/dist-packages (from requests->Kivy-Garden>=0.1.4->kivy) (1.24.3)\n",
            "Requirement already satisfied: idna<3,>=2.5 in /usr/local/lib/python3.7/dist-packages (from requests->Kivy-Garden>=0.1.4->kivy) (2.10)\n",
            "Installing collected packages: Kivy-Garden, kivy\n",
            "Successfully installed Kivy-Garden-0.1.5 kivy-2.1.0\n"
          ]
        }
      ]
    },
    {
      "cell_type": "code",
      "execution_count": null,
      "metadata": {
        "colab": {
          "base_uri": "https://localhost:8080/"
        },
        "id": "cSwwD0Rr3Nxx",
        "outputId": "649de542-2a56-43cb-afe5-ce847c0ec942"
      },
      "outputs": [
        {
          "output_type": "stream",
          "name": "stderr",
          "text": [
            "[INFO   ] [Logger      ] Record log in /root/.kivy/logs/kivy_22-06-21_1.txt\n",
            "[INFO   ] [Kivy        ] v2.1.0\n",
            "[INFO   ] [Kivy        ] Installed at \"/usr/local/lib/python3.7/dist-packages/kivy/__init__.py\"\n",
            "[INFO   ] [Python      ] v3.7.13 (default, Apr 24 2022, 01:04:09) \n",
            "[GCC 7.5.0]\n",
            "[INFO   ] [Python      ] Interpreter at \"/usr/bin/python3\"\n",
            "[INFO   ] [Logger      ] Purge log fired. Processing...\n",
            "[INFO   ] [Logger      ] Purge finished!\n",
            "[INFO   ] [Factory     ] 189 symbols loaded\n",
            "[INFO   ] [Image       ] Providers: img_tex, img_dds, img_sdl2, img_pil (img_ffpyplayer ignored)\n",
            "[INFO   ] [Text        ] Provider: sdl2\n",
            "[INFO   ] [Window      ] Provider: sdl2\n",
            "[INFO   ] [Window      ] Provider: x11(['window_sdl2'] ignored)\n"
          ]
        }
      ],
      "source": [
        "from kivy.app import App\n",
        "from kivy.uix.gridlayout import GridLayout\n",
        "from kivy.uix.label import Label\n",
        "from kivy.uix.textinput import TextInput\n",
        "\n",
        "class LoginScreen(GridLayout):\n",
        "    def __init__(self, **kwargs):\n",
        "        super(LoginScreen, self).__init__(**kwargs)\n",
        "        self.cols = 2\n",
        "        self.add_widget(Label(text='User Name'))\n",
        "        self.username = TextInput(multiline=False)\n",
        "        self.add_widget(self.username)\n",
        "        self.add_widget(Label(text='password'))\n",
        "        self.password = TextInput(password=True, multiline=False)\n",
        "        self.add_widget(self.password)\n",
        "class MyApp(App):\n",
        "    def build(self):\n",
        "        return LoginScreen()\n",
        "if __name__ == '__main__':\n",
        "    MyApp().run()"
      ]
    }
  ]
}